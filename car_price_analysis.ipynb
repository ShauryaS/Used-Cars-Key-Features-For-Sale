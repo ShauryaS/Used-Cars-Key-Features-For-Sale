{
 "cells": [
  {
   "cell_type": "markdown",
   "metadata": {},
   "source": [
    "# What drives the price of a car?\n",
    "\n",
    "![](images/kurt.jpeg)"
   ]
  },
  {
   "cell_type": "markdown",
   "metadata": {},
   "source": [
    "**OVERVIEW**\n",
    "\n",
    "In this application, you will explore a dataset from kaggle. The original dataset contained information on 3 million used cars. The provided dataset contains information on 426K cars to ensure speed of processing.  Your goal is to understand what factors make a car more or less expensive.  As a result of your analysis, you should provide clear recommendations to your client -- a used car dealership -- as to what consumers value in a used car."
   ]
  },
  {
   "cell_type": "markdown",
   "metadata": {},
   "source": [
    "### CRISP-DM Framework\n",
    "\n",
    "<center>\n",
    "    <img src = images/crisp.png width = 50%/>\n",
    "</center>\n",
    "\n",
    "\n",
    "To frame the task, throughout our practical applications we will refer back to a standard process in industry for data projects called CRISP-DM.  This process provides a framework for working through a data problem.  Your first step in this application will be to read through a brief overview of CRISP-DM [here](https://mo-pcco.s3.us-east-1.amazonaws.com/BH-PCMLAI/module_11/readings_starter.zip).  After reading the overview, answer the questions below."
   ]
  },
  {
   "cell_type": "code",
   "execution_count": 1,
   "metadata": {},
   "outputs": [],
   "source": [
    "# imports\n",
    "\n",
    "import pandas as pd\n",
    "import seaborn as sns\n",
    "import matplotlib.pyplot as plt\n"
   ]
  },
  {
   "cell_type": "markdown",
   "metadata": {},
   "source": [
    "### Business Understanding\n",
    "\n",
    "From a business perspective, we are tasked with identifying key drivers for used car prices.  In the CRISP-DM overview, we are asked to convert this business framing to a data problem definition.  Using a few sentences, reframe the task as a data task with the appropriate technical vocabulary. "
   ]
  },
  {
   "cell_type": "markdown",
   "metadata": {},
   "source": [
    "#### Determine Business Understanding\n",
    "\n",
    "The used car dealership wants to sell as many cars as possible to customers. In order to do so, the used car dealership wants to know what consumers value the most when looking to buy used cars. The business wants to predict what a used car's value would be from the customer's persepective. The customer's primary objective is to buy a used car that has all the features they are looking for, low mileage, and undamaged interior/exterior so that they get the best value. The success criteria is that the used dealership will have a lot of sales where the customer is buying many of their used cars. "
   ]
  },
  {
   "cell_type": "markdown",
   "metadata": {},
   "source": [
    "#### Assess Situation\n",
    "\n",
    "The resources available is a dataset that contains various information about a used car and what it was valued at. This investigation needs to be complete in a week and the results need to be of high quality. Some assumptions made are that the value of the used cars in the dataset is what customers actually bought the used car for. The dataset is also a slice of all the data, so another assumption is that it is an accurate representation of the overall data. A risk is that a lot of the selected data might be malformed or skewed, that may negatively affect the model that predicts how a customer will value the used car based on certain parameters. The cost of this project is the time needed for all the data analysis and modeling. But the benefits are that the revenue of the used dealership could increase drastically. \n"
   ]
  },
  {
   "cell_type": "markdown",
   "metadata": {},
   "source": [
    "#### Determine Data Mining Goals\n",
    "\n",
    "There are two intended outputs of this project. The first is to identify the important aspects of a used vehicle that consumers value. The second is a predicted value of a used car. The success criteria is that we have a model that estimates a value of a used car that the customer also agrees on, leading them to buy the used vehicle. "
   ]
  },
  {
   "cell_type": "markdown",
   "metadata": {},
   "source": [
    "#### Produce Project Plan\n",
    "\n",
    "There are many stages that need to be conducted for this project. \n",
    "\n",
    "1. Understand the data\n",
    "\n",
    "- This includes looking at the different columns of the dataset and performing exploratory data analysis. During this stage, issues with the data needs to be identified so that we know exactly how the data should be cleaned/prepped for the machine learning models. \n",
    "\n",
    "2. Clean and Prepare the data\n",
    "\n",
    "- Based on the first step, clean and prepare the data for the modeling phase. At this point, determine what columns will be kept and how the data will be transformed. \n",
    "\n",
    "3. Build, train, and evaluate the model\n",
    "\n",
    "- Determine what model should be used, train the model, and evaluat the accuracy of the model based on the selected loss function. For this project, we will likely use Mean Absolute Error (MAE) or Mean Squared Error (MSE). \n",
    "\n",
    "4. Final analysis and conclusion\n",
    "\n",
    "- After all the modelung and data analysis, conclude the learnings in a clear and concise manner. In this case, we need to inform the used car dealership about what consumers value the most when looking to buy a used car. \n",
    "\n",
    "Steps 1 and 2 are the most important, and will take longer than steps 3 and 4, because bad data can have a negative impact on the data analysis and machine learning. Without good data, the information conveyed to the used car dealership could hurt the sales."
   ]
  },
  {
   "cell_type": "markdown",
   "metadata": {},
   "source": [
    "### Data Understanding\n",
    "\n",
    "After considering the business understanding, we want to get familiar with our data.  Write down some steps that you would take to get to know the dataset and identify any quality issues within.  Take time to get to know the dataset and explore what information it contains and how this could be used to inform your business understanding."
   ]
  },
  {
   "cell_type": "markdown",
   "metadata": {},
   "source": [
    "#### Collect Initial Data\n",
    "\n",
    "A vehicles dataset was provided to us from Kaggle. The data is located in the data folder of this project. The data is loaded into the pandas dataframe called vehicles_df. "
   ]
  },
  {
   "cell_type": "code",
   "execution_count": 2,
   "metadata": {},
   "outputs": [],
   "source": [
    "vehicles_df = pd.read_csv('./data/vehicles.csv')"
   ]
  },
  {
   "cell_type": "markdown",
   "metadata": {},
   "source": [
    "#### Describe Data"
   ]
  },
  {
   "cell_type": "code",
   "execution_count": 3,
   "metadata": {},
   "outputs": [
    {
     "name": "stdout",
     "output_type": "stream",
     "text": [
      "<class 'pandas.core.frame.DataFrame'>\n",
      "RangeIndex: 426880 entries, 0 to 426879\n",
      "Data columns (total 18 columns):\n",
      " #   Column        Non-Null Count   Dtype  \n",
      "---  ------        --------------   -----  \n",
      " 0   id            426880 non-null  int64  \n",
      " 1   region        426880 non-null  object \n",
      " 2   price         426880 non-null  int64  \n",
      " 3   year          425675 non-null  float64\n",
      " 4   manufacturer  409234 non-null  object \n",
      " 5   model         421603 non-null  object \n",
      " 6   condition     252776 non-null  object \n",
      " 7   cylinders     249202 non-null  object \n",
      " 8   fuel          423867 non-null  object \n",
      " 9   odometer      422480 non-null  float64\n",
      " 10  title_status  418638 non-null  object \n",
      " 11  transmission  424324 non-null  object \n",
      " 12  VIN           265838 non-null  object \n",
      " 13  drive         296313 non-null  object \n",
      " 14  size          120519 non-null  object \n",
      " 15  type          334022 non-null  object \n",
      " 16  paint_color   296677 non-null  object \n",
      " 17  state         426880 non-null  object \n",
      "dtypes: float64(2), int64(2), object(14)\n",
      "memory usage: 58.6+ MB\n"
     ]
    }
   ],
   "source": [
    "vehicles_df.info()"
   ]
  },
  {
   "cell_type": "markdown",
   "metadata": {},
   "source": [
    "The data has a mix of integers, floats, and strings for the column values. There are 18 features in the dataset. There are 426,880 entries in the dataset, but majority of the columns have some null values. Each entry can be identified by the id or VIN values. The data acquired satisfies the relevant requirements to inform the used car dealership about what customers value when looking to buy a used car. The values of id and VIN are random, unique values and hence don't contribute to customers buying new vehicles. Some of the data will need to be cleaned up or filled for better data analysis and modeling. "
   ]
  },
  {
   "cell_type": "markdown",
   "metadata": {},
   "source": [
    "#### Explore Data"
   ]
  },
  {
   "cell_type": "code",
   "execution_count": 4,
   "metadata": {},
   "outputs": [
    {
     "data": {
      "text/html": [
       "<div>\n",
       "<style scoped>\n",
       "    .dataframe tbody tr th:only-of-type {\n",
       "        vertical-align: middle;\n",
       "    }\n",
       "\n",
       "    .dataframe tbody tr th {\n",
       "        vertical-align: top;\n",
       "    }\n",
       "\n",
       "    .dataframe thead th {\n",
       "        text-align: right;\n",
       "    }\n",
       "</style>\n",
       "<table border=\"1\" class=\"dataframe\">\n",
       "  <thead>\n",
       "    <tr style=\"text-align: right;\">\n",
       "      <th></th>\n",
       "      <th>id</th>\n",
       "      <th>region</th>\n",
       "      <th>price</th>\n",
       "      <th>year</th>\n",
       "      <th>manufacturer</th>\n",
       "      <th>model</th>\n",
       "      <th>condition</th>\n",
       "      <th>cylinders</th>\n",
       "      <th>fuel</th>\n",
       "      <th>odometer</th>\n",
       "      <th>title_status</th>\n",
       "      <th>transmission</th>\n",
       "      <th>VIN</th>\n",
       "      <th>drive</th>\n",
       "      <th>size</th>\n",
       "      <th>type</th>\n",
       "      <th>paint_color</th>\n",
       "      <th>state</th>\n",
       "    </tr>\n",
       "  </thead>\n",
       "  <tbody>\n",
       "    <tr>\n",
       "      <th>217125</th>\n",
       "      <td>7304123509</td>\n",
       "      <td>rochester</td>\n",
       "      <td>26990</td>\n",
       "      <td>2018.0</td>\n",
       "      <td>bmw</td>\n",
       "      <td>3 series 330i xdrive sedan</td>\n",
       "      <td>good</td>\n",
       "      <td>NaN</td>\n",
       "      <td>gas</td>\n",
       "      <td>13088.0</td>\n",
       "      <td>clean</td>\n",
       "      <td>automatic</td>\n",
       "      <td>WBA8D9G55JNU69602</td>\n",
       "      <td>NaN</td>\n",
       "      <td>NaN</td>\n",
       "      <td>sedan</td>\n",
       "      <td>NaN</td>\n",
       "      <td>mn</td>\n",
       "    </tr>\n",
       "    <tr>\n",
       "      <th>252750</th>\n",
       "      <td>7309822632</td>\n",
       "      <td>jersey shore</td>\n",
       "      <td>10000</td>\n",
       "      <td>2021.0</td>\n",
       "      <td>honda</td>\n",
       "      <td>civic</td>\n",
       "      <td>NaN</td>\n",
       "      <td>NaN</td>\n",
       "      <td>gas</td>\n",
       "      <td>100000.0</td>\n",
       "      <td>clean</td>\n",
       "      <td>other</td>\n",
       "      <td>NaN</td>\n",
       "      <td>NaN</td>\n",
       "      <td>NaN</td>\n",
       "      <td>NaN</td>\n",
       "      <td>NaN</td>\n",
       "      <td>nj</td>\n",
       "    </tr>\n",
       "    <tr>\n",
       "      <th>20242</th>\n",
       "      <td>7308368085</td>\n",
       "      <td>little rock</td>\n",
       "      <td>27900</td>\n",
       "      <td>2014.0</td>\n",
       "      <td>ram</td>\n",
       "      <td>3500</td>\n",
       "      <td>NaN</td>\n",
       "      <td>8 cylinders</td>\n",
       "      <td>gas</td>\n",
       "      <td>66788.0</td>\n",
       "      <td>NaN</td>\n",
       "      <td>automatic</td>\n",
       "      <td>3C7WRSCJ7EG281400</td>\n",
       "      <td>rwd</td>\n",
       "      <td>NaN</td>\n",
       "      <td>pickup</td>\n",
       "      <td>white</td>\n",
       "      <td>ar</td>\n",
       "    </tr>\n",
       "    <tr>\n",
       "      <th>150571</th>\n",
       "      <td>7315320615</td>\n",
       "      <td>fort wayne</td>\n",
       "      <td>3500</td>\n",
       "      <td>2006.0</td>\n",
       "      <td>mitsubishi</td>\n",
       "      <td>galant</td>\n",
       "      <td>good</td>\n",
       "      <td>6 cylinders</td>\n",
       "      <td>gas</td>\n",
       "      <td>147541.0</td>\n",
       "      <td>clean</td>\n",
       "      <td>automatic</td>\n",
       "      <td>4A3AB26F46E072866</td>\n",
       "      <td>fwd</td>\n",
       "      <td>full-size</td>\n",
       "      <td>sedan</td>\n",
       "      <td>silver</td>\n",
       "      <td>in</td>\n",
       "    </tr>\n",
       "    <tr>\n",
       "      <th>166796</th>\n",
       "      <td>7311516157</td>\n",
       "      <td>kansas city, MO</td>\n",
       "      <td>0</td>\n",
       "      <td>2016.0</td>\n",
       "      <td>chevrolet</td>\n",
       "      <td>tahoe</td>\n",
       "      <td>excellent</td>\n",
       "      <td>8 cylinders</td>\n",
       "      <td>gas</td>\n",
       "      <td>119752.0</td>\n",
       "      <td>clean</td>\n",
       "      <td>automatic</td>\n",
       "      <td>1GNSKBKC5GR282395</td>\n",
       "      <td>4wd</td>\n",
       "      <td>full-size</td>\n",
       "      <td>SUV</td>\n",
       "      <td>red</td>\n",
       "      <td>ks</td>\n",
       "    </tr>\n",
       "    <tr>\n",
       "      <th>107177</th>\n",
       "      <td>7314063697</td>\n",
       "      <td>panama city</td>\n",
       "      <td>20000</td>\n",
       "      <td>1989.0</td>\n",
       "      <td>chevrolet</td>\n",
       "      <td>blazer</td>\n",
       "      <td>good</td>\n",
       "      <td>8 cylinders</td>\n",
       "      <td>gas</td>\n",
       "      <td>76570.0</td>\n",
       "      <td>clean</td>\n",
       "      <td>automatic</td>\n",
       "      <td>NaN</td>\n",
       "      <td>rwd</td>\n",
       "      <td>full-size</td>\n",
       "      <td>truck</td>\n",
       "      <td>black</td>\n",
       "      <td>fl</td>\n",
       "    </tr>\n",
       "    <tr>\n",
       "      <th>114596</th>\n",
       "      <td>7310829960</td>\n",
       "      <td>space coast</td>\n",
       "      <td>37990</td>\n",
       "      <td>2020.0</td>\n",
       "      <td>cadillac</td>\n",
       "      <td>ct5 premium luxury</td>\n",
       "      <td>good</td>\n",
       "      <td>NaN</td>\n",
       "      <td>gas</td>\n",
       "      <td>8132.0</td>\n",
       "      <td>clean</td>\n",
       "      <td>other</td>\n",
       "      <td>1G6DT5RK1L0130287</td>\n",
       "      <td>NaN</td>\n",
       "      <td>NaN</td>\n",
       "      <td>sedan</td>\n",
       "      <td>black</td>\n",
       "      <td>fl</td>\n",
       "    </tr>\n",
       "    <tr>\n",
       "      <th>240444</th>\n",
       "      <td>7316460587</td>\n",
       "      <td>raleigh / durham / CH</td>\n",
       "      <td>0</td>\n",
       "      <td>2014.0</td>\n",
       "      <td>ford</td>\n",
       "      <td>fusion</td>\n",
       "      <td>NaN</td>\n",
       "      <td>NaN</td>\n",
       "      <td>NaN</td>\n",
       "      <td>NaN</td>\n",
       "      <td>NaN</td>\n",
       "      <td>NaN</td>\n",
       "      <td>1FA6P0H76E5402550</td>\n",
       "      <td>NaN</td>\n",
       "      <td>NaN</td>\n",
       "      <td>NaN</td>\n",
       "      <td>NaN</td>\n",
       "      <td>nc</td>\n",
       "    </tr>\n",
       "    <tr>\n",
       "      <th>212016</th>\n",
       "      <td>7305863652</td>\n",
       "      <td>duluth / superior</td>\n",
       "      <td>4680</td>\n",
       "      <td>2007.0</td>\n",
       "      <td>gmc</td>\n",
       "      <td>sierra</td>\n",
       "      <td>good</td>\n",
       "      <td>8 cylinders</td>\n",
       "      <td>gas</td>\n",
       "      <td>212332.0</td>\n",
       "      <td>clean</td>\n",
       "      <td>automatic</td>\n",
       "      <td>NaN</td>\n",
       "      <td>4wd</td>\n",
       "      <td>NaN</td>\n",
       "      <td>NaN</td>\n",
       "      <td>NaN</td>\n",
       "      <td>mn</td>\n",
       "    </tr>\n",
       "    <tr>\n",
       "      <th>146299</th>\n",
       "      <td>7311047596</td>\n",
       "      <td>springfield</td>\n",
       "      <td>11495</td>\n",
       "      <td>2008.0</td>\n",
       "      <td>chevrolet</td>\n",
       "      <td>silverado 1500 lt1</td>\n",
       "      <td>NaN</td>\n",
       "      <td>NaN</td>\n",
       "      <td>gas</td>\n",
       "      <td>184721.0</td>\n",
       "      <td>clean</td>\n",
       "      <td>automatic</td>\n",
       "      <td>NaN</td>\n",
       "      <td>NaN</td>\n",
       "      <td>NaN</td>\n",
       "      <td>NaN</td>\n",
       "      <td>NaN</td>\n",
       "      <td>il</td>\n",
       "    </tr>\n",
       "  </tbody>\n",
       "</table>\n",
       "</div>"
      ],
      "text/plain": [
       "                id                 region  price    year manufacturer  \\\n",
       "217125  7304123509              rochester  26990  2018.0          bmw   \n",
       "252750  7309822632           jersey shore  10000  2021.0        honda   \n",
       "20242   7308368085            little rock  27900  2014.0          ram   \n",
       "150571  7315320615             fort wayne   3500  2006.0   mitsubishi   \n",
       "166796  7311516157        kansas city, MO      0  2016.0    chevrolet   \n",
       "107177  7314063697            panama city  20000  1989.0    chevrolet   \n",
       "114596  7310829960            space coast  37990  2020.0     cadillac   \n",
       "240444  7316460587  raleigh / durham / CH      0  2014.0         ford   \n",
       "212016  7305863652      duluth / superior   4680  2007.0          gmc   \n",
       "146299  7311047596            springfield  11495  2008.0    chevrolet   \n",
       "\n",
       "                             model  condition    cylinders fuel  odometer  \\\n",
       "217125  3 series 330i xdrive sedan       good          NaN  gas   13088.0   \n",
       "252750                       civic        NaN          NaN  gas  100000.0   \n",
       "20242                         3500        NaN  8 cylinders  gas   66788.0   \n",
       "150571                      galant       good  6 cylinders  gas  147541.0   \n",
       "166796                       tahoe  excellent  8 cylinders  gas  119752.0   \n",
       "107177                      blazer       good  8 cylinders  gas   76570.0   \n",
       "114596          ct5 premium luxury       good          NaN  gas    8132.0   \n",
       "240444                      fusion        NaN          NaN  NaN       NaN   \n",
       "212016                      sierra       good  8 cylinders  gas  212332.0   \n",
       "146299          silverado 1500 lt1        NaN          NaN  gas  184721.0   \n",
       "\n",
       "       title_status transmission                VIN drive       size    type  \\\n",
       "217125        clean    automatic  WBA8D9G55JNU69602   NaN        NaN   sedan   \n",
       "252750        clean        other                NaN   NaN        NaN     NaN   \n",
       "20242           NaN    automatic  3C7WRSCJ7EG281400   rwd        NaN  pickup   \n",
       "150571        clean    automatic  4A3AB26F46E072866   fwd  full-size   sedan   \n",
       "166796        clean    automatic  1GNSKBKC5GR282395   4wd  full-size     SUV   \n",
       "107177        clean    automatic                NaN   rwd  full-size   truck   \n",
       "114596        clean        other  1G6DT5RK1L0130287   NaN        NaN   sedan   \n",
       "240444          NaN          NaN  1FA6P0H76E5402550   NaN        NaN     NaN   \n",
       "212016        clean    automatic                NaN   4wd        NaN     NaN   \n",
       "146299        clean    automatic                NaN   NaN        NaN     NaN   \n",
       "\n",
       "       paint_color state  \n",
       "217125         NaN    mn  \n",
       "252750         NaN    nj  \n",
       "20242        white    ar  \n",
       "150571      silver    in  \n",
       "166796         red    ks  \n",
       "107177       black    fl  \n",
       "114596       black    fl  \n",
       "240444         NaN    nc  \n",
       "212016         NaN    mn  \n",
       "146299         NaN    il  "
      ]
     },
     "execution_count": 4,
     "metadata": {},
     "output_type": "execute_result"
    }
   ],
   "source": [
    "vehicles_df.sample(10)"
   ]
  },
  {
   "cell_type": "markdown",
   "metadata": {},
   "source": [
    "From the sample of the dataframe, I can see that there are alot of entities with empty values for some of the columns. I also observe that some columns have repeated info, meaning that certain columns can be removed. Additionally, columns like VIN and ID are random and should be dropped. "
   ]
  },
  {
   "cell_type": "code",
   "execution_count": 5,
   "metadata": {},
   "outputs": [
    {
     "data": {
      "text/html": [
       "<div>\n",
       "<style scoped>\n",
       "    .dataframe tbody tr th:only-of-type {\n",
       "        vertical-align: middle;\n",
       "    }\n",
       "\n",
       "    .dataframe tbody tr th {\n",
       "        vertical-align: top;\n",
       "    }\n",
       "\n",
       "    .dataframe thead th {\n",
       "        text-align: right;\n",
       "    }\n",
       "</style>\n",
       "<table border=\"1\" class=\"dataframe\">\n",
       "  <thead>\n",
       "    <tr style=\"text-align: right;\">\n",
       "      <th></th>\n",
       "      <th>id</th>\n",
       "      <th>price</th>\n",
       "      <th>year</th>\n",
       "      <th>odometer</th>\n",
       "    </tr>\n",
       "  </thead>\n",
       "  <tbody>\n",
       "    <tr>\n",
       "      <th>count</th>\n",
       "      <td>4.268800e+05</td>\n",
       "      <td>4.268800e+05</td>\n",
       "      <td>425675.000000</td>\n",
       "      <td>4.224800e+05</td>\n",
       "    </tr>\n",
       "    <tr>\n",
       "      <th>mean</th>\n",
       "      <td>7.311487e+09</td>\n",
       "      <td>7.519903e+04</td>\n",
       "      <td>2011.235191</td>\n",
       "      <td>9.804333e+04</td>\n",
       "    </tr>\n",
       "    <tr>\n",
       "      <th>std</th>\n",
       "      <td>4.473170e+06</td>\n",
       "      <td>1.218228e+07</td>\n",
       "      <td>9.452120</td>\n",
       "      <td>2.138815e+05</td>\n",
       "    </tr>\n",
       "    <tr>\n",
       "      <th>min</th>\n",
       "      <td>7.207408e+09</td>\n",
       "      <td>0.000000e+00</td>\n",
       "      <td>1900.000000</td>\n",
       "      <td>0.000000e+00</td>\n",
       "    </tr>\n",
       "    <tr>\n",
       "      <th>25%</th>\n",
       "      <td>7.308143e+09</td>\n",
       "      <td>5.900000e+03</td>\n",
       "      <td>2008.000000</td>\n",
       "      <td>3.770400e+04</td>\n",
       "    </tr>\n",
       "    <tr>\n",
       "      <th>50%</th>\n",
       "      <td>7.312621e+09</td>\n",
       "      <td>1.395000e+04</td>\n",
       "      <td>2013.000000</td>\n",
       "      <td>8.554800e+04</td>\n",
       "    </tr>\n",
       "    <tr>\n",
       "      <th>75%</th>\n",
       "      <td>7.315254e+09</td>\n",
       "      <td>2.648575e+04</td>\n",
       "      <td>2017.000000</td>\n",
       "      <td>1.335425e+05</td>\n",
       "    </tr>\n",
       "    <tr>\n",
       "      <th>max</th>\n",
       "      <td>7.317101e+09</td>\n",
       "      <td>3.736929e+09</td>\n",
       "      <td>2022.000000</td>\n",
       "      <td>1.000000e+07</td>\n",
       "    </tr>\n",
       "  </tbody>\n",
       "</table>\n",
       "</div>"
      ],
      "text/plain": [
       "                 id         price           year      odometer\n",
       "count  4.268800e+05  4.268800e+05  425675.000000  4.224800e+05\n",
       "mean   7.311487e+09  7.519903e+04    2011.235191  9.804333e+04\n",
       "std    4.473170e+06  1.218228e+07       9.452120  2.138815e+05\n",
       "min    7.207408e+09  0.000000e+00    1900.000000  0.000000e+00\n",
       "25%    7.308143e+09  5.900000e+03    2008.000000  3.770400e+04\n",
       "50%    7.312621e+09  1.395000e+04    2013.000000  8.554800e+04\n",
       "75%    7.315254e+09  2.648575e+04    2017.000000  1.335425e+05\n",
       "max    7.317101e+09  3.736929e+09    2022.000000  1.000000e+07"
      ]
     },
     "execution_count": 5,
     "metadata": {},
     "output_type": "execute_result"
    }
   ],
   "source": [
    "vehicles_df.describe()"
   ]
  },
  {
   "cell_type": "markdown",
   "metadata": {},
   "source": [
    "Looking at the table generated from the describe of the dataframe, we notice 2 main things:\n",
    "\n",
    "1. Used car prices ranges from 0 to $3.73B with the avg price at ~75k\n",
    "2. The data contains data from year 1900 to 2022, with the avg year of 2011\n",
    "\n",
    "From point 1, we need to check the validity of the prices because the range is absurd, with a max of $3.73B."
   ]
  },
  {
   "cell_type": "code",
   "execution_count": 6,
   "metadata": {},
   "outputs": [
    {
     "data": {
      "image/png": "[encoded data removed]",
      "text/plain": [
       "<Figure size 432x288 with 1 Axes>"
      ]
     },
     "metadata": {
      "needs_background": "light"
     },
     "output_type": "display_data"
    },
    {
     "name": "stdout",
     "output_type": "stream",
     "text": [
      "68\n"
     ]
    }
   ],
   "source": [
    "plt.hist(vehicles_df[vehicles_df['price'] > 500000]['price'])\n",
    "plt.xlabel('Price')\n",
    "plt.ylabel('Frequency')\n",
    "plt.title('Histogram of Vehicle Price')\n",
    "plt.show()\n",
    "\n",
    "print(len(vehicles_df[vehicles_df['price'] > 500000]))"
   ]
  },
  {
   "cell_type": "markdown",
   "metadata": {},
   "source": [
    "There are 68 vehicles with absurd prices above $500k. "
   ]
  },
  {
   "cell_type": "code",
   "execution_count": 7,
   "metadata": {},
   "outputs": [
    {
     "data": {
      "image/png": "[encoded data removed]",
      "text/plain": [
       "<Figure size 432x288 with 1 Axes>"
      ]
     },
     "metadata": {
      "needs_background": "light"
     },
     "output_type": "display_data"
    }
   ],
   "source": [
    "vehicles_df['manufacturer'].value_counts().plot(kind='bar')\n",
    "plt.xlabel('Manufacturer')\n",
    "plt.ylabel('Frequency')\n",
    "plt.xticks(rotation=90)\n",
    "plt.show()\n"
   ]
  },
  {
   "cell_type": "markdown",
   "metadata": {},
   "source": [
    "Of all the car manufacturers, very few would have high prices and the vehicle counts of manufacturers that would have expensive cars has a low count. "
   ]
  },
  {
   "cell_type": "code",
   "execution_count": 8,
   "metadata": {},
   "outputs": [
    {
     "data": {
      "image/png": "[encoded data removed]",
      "text/plain": [
       "<Figure size 432x288 with 1 Axes>"
      ]
     },
     "metadata": {
      "needs_background": "light"
     },
     "output_type": "display_data"
    }
   ],
   "source": [
    "vehicles_df['fuel'].value_counts().plot(kind='bar')\n",
    "plt.xlabel('Fuel')\n",
    "plt.ylabel('Frequency')\n",
    "plt.xticks(rotation=90)\n",
    "plt.show()\n"
   ]
  },
  {
   "cell_type": "markdown",
   "metadata": {},
   "source": [
    "Majority of the cars take gas for the fuel, so fuel type may not be an important factor in how customers value used car prices. "
   ]
  },
  {
   "cell_type": "code",
   "execution_count": 9,
   "metadata": {},
   "outputs": [
    {
     "data": {
      "image/png": "[encoded data removed]",
      "text/plain": [
       "<Figure size 432x288 with 1 Axes>"
      ]
     },
     "metadata": {
      "needs_background": "light"
     },
     "output_type": "display_data"
    }
   ],
   "source": [
    "vehicles_df['drive'].value_counts().plot(kind='bar')\n",
    "plt.xlabel('Fuel')\n",
    "plt.ylabel('Frequency')\n",
    "plt.xticks(rotation=90)\n",
    "plt.show()\n"
   ]
  },
  {
   "cell_type": "markdown",
   "metadata": {},
   "source": [
    "There roughly similar counts of the different drive trains, meaning the dataset has a good distribution of vehicles based on drive train. "
   ]
  },
  {
   "cell_type": "code",
   "execution_count": 10,
   "metadata": {},
   "outputs": [
    {
     "data": {
      "image/png": "[encoded data removed]",
      "text/plain": [
       "<Figure size 432x288 with 1 Axes>"
      ]
     },
     "metadata": {
      "needs_background": "light"
     },
     "output_type": "display_data"
    }
   ],
   "source": [
    "sns.histplot(data=vehicles_df[vehicles_df['price'] <= 100000], x=\"price\", hue=\"drive\", kde=True, bins=50)\n",
    "plt.show()\n"
   ]
  },
  {
   "cell_type": "markdown",
   "metadata": {},
   "source": [
    "Drive train type seems to have some impact on the value of the vehicle. The scale is adjusted to include vehicles with prices < 100k for a view of the relevant distribution. "
   ]
  },
  {
   "cell_type": "code",
   "execution_count": 11,
   "metadata": {},
   "outputs": [
    {
     "data": {
      "image/png": "[encoded data removed]",
      "text/plain": [
       "<Figure size 432x288 with 1 Axes>"
      ]
     },
     "metadata": {
      "needs_background": "light"
     },
     "output_type": "display_data"
    }
   ],
   "source": [
    "sns.histplot(data=vehicles_df[vehicles_df['price'] <= 100000], x=\"price\", hue=\"condition\", kde=True, bins=50)\n",
    "plt.show()"
   ]
  },
  {
   "cell_type": "markdown",
   "metadata": {},
   "source": [
    "The condition of the vehicle seems to have a huge impact on how a car is valued. The scale is adjusted to include vehicles with prices < 100k for a view of the relevant distribution. "
   ]
  },
  {
   "cell_type": "code",
   "execution_count": 12,
   "metadata": {},
   "outputs": [
    {
     "data": {
      "image/png": "[encoded data removed]",
      "text/plain": [
       "<Figure size 432x288 with 1 Axes>"
      ]
     },
     "metadata": {
      "needs_background": "light"
     },
     "output_type": "display_data"
    }
   ],
   "source": [
    "sns.histplot(data=vehicles_df[vehicles_df['price'] <= 100000], x=\"price\", hue=\"type\", kde=True, bins=50)\n",
    "plt.show()"
   ]
  },
  {
   "cell_type": "markdown",
   "metadata": {},
   "source": [
    "Vehicle type has an effect on the price. The scale is adjusted to include vehicles with prices < 100k for a view of the relevant distribution. "
   ]
  },
  {
   "cell_type": "code",
   "execution_count": 13,
   "metadata": {},
   "outputs": [
    {
     "data": {
      "image/png": "[encoded data removed]",
      "text/plain": [
       "<Figure size 432x288 with 1 Axes>"
      ]
     },
     "metadata": {
      "needs_background": "light"
     },
     "output_type": "display_data"
    }
   ],
   "source": [
    "sns.histplot(data=vehicles_df[vehicles_df['price'] <= 100000], x=\"price\", hue=\"paint_color\", kde=True, bins=50)\n",
    "plt.show()"
   ]
  },
  {
   "cell_type": "markdown",
   "metadata": {},
   "source": [
    "Paint color has an impact on how customers value a used car. "
   ]
  },
  {
   "cell_type": "code",
   "execution_count": 14,
   "metadata": {},
   "outputs": [
    {
     "data": {
      "image/png": "[encoded data removed]",
      "text/plain": [
       "<Figure size 432x288 with 1 Axes>"
      ]
     },
     "metadata": {
      "needs_background": "light"
     },
     "output_type": "display_data"
    }
   ],
   "source": [
    "sns.histplot(data=vehicles_df[vehicles_df['price'] <= 100000], x=\"price\", hue=\"cylinders\", kde=True, bins=50)\n",
    "plt.show()"
   ]
  },
  {
   "cell_type": "markdown",
   "metadata": {},
   "source": [
    "The number of cylinders in the engine also plays a role in how customers value a used car. "
   ]
  },
  {
   "cell_type": "code",
   "execution_count": 15,
   "metadata": {},
   "outputs": [
    {
     "data": {
      "image/png": "[encoded data removed]",
      "text/plain": [
       "<Figure size 432x288 with 1 Axes>"
      ]
     },
     "metadata": {
      "needs_background": "light"
     },
     "output_type": "display_data"
    }
   ],
   "source": [
    "sns.histplot(data=vehicles_df[vehicles_df['price'] <= 100000], x=\"price\", hue=\"size\", kde=True, bins=50)\n",
    "plt.show()"
   ]
  },
  {
   "cell_type": "code",
   "execution_count": 16,
   "metadata": {},
   "outputs": [
    {
     "data": {
      "text/html": [
       "<div>\n",
       "<style scoped>\n",
       "    .dataframe tbody tr th:only-of-type {\n",
       "        vertical-align: middle;\n",
       "    }\n",
       "\n",
       "    .dataframe tbody tr th {\n",
       "        vertical-align: top;\n",
       "    }\n",
       "\n",
       "    .dataframe thead th {\n",
       "        text-align: right;\n",
       "    }\n",
       "</style>\n",
       "<table border=\"1\" class=\"dataframe\">\n",
       "  <thead>\n",
       "    <tr style=\"text-align: right;\">\n",
       "      <th></th>\n",
       "      <th>id</th>\n",
       "      <th>region</th>\n",
       "      <th>price</th>\n",
       "      <th>year</th>\n",
       "      <th>manufacturer</th>\n",
       "      <th>model</th>\n",
       "      <th>condition</th>\n",
       "      <th>cylinders</th>\n",
       "      <th>fuel</th>\n",
       "      <th>odometer</th>\n",
       "      <th>title_status</th>\n",
       "      <th>transmission</th>\n",
       "      <th>VIN</th>\n",
       "      <th>drive</th>\n",
       "      <th>size</th>\n",
       "      <th>type</th>\n",
       "      <th>paint_color</th>\n",
       "      <th>state</th>\n",
       "    </tr>\n",
       "  </thead>\n",
       "  <tbody>\n",
       "    <tr>\n",
       "      <th>31</th>\n",
       "      <td>7316356412</td>\n",
       "      <td>auburn</td>\n",
       "      <td>15000</td>\n",
       "      <td>2013.0</td>\n",
       "      <td>ford</td>\n",
       "      <td>f-150 xlt</td>\n",
       "      <td>excellent</td>\n",
       "      <td>6 cylinders</td>\n",
       "      <td>gas</td>\n",
       "      <td>128000.0</td>\n",
       "      <td>clean</td>\n",
       "      <td>automatic</td>\n",
       "      <td>NaN</td>\n",
       "      <td>rwd</td>\n",
       "      <td>full-size</td>\n",
       "      <td>truck</td>\n",
       "      <td>black</td>\n",
       "      <td>al</td>\n",
       "    </tr>\n",
       "    <tr>\n",
       "      <th>65</th>\n",
       "      <td>7312847466</td>\n",
       "      <td>auburn</td>\n",
       "      <td>22500</td>\n",
       "      <td>2001.0</td>\n",
       "      <td>ford</td>\n",
       "      <td>f450</td>\n",
       "      <td>good</td>\n",
       "      <td>8 cylinders</td>\n",
       "      <td>diesel</td>\n",
       "      <td>144700.0</td>\n",
       "      <td>clean</td>\n",
       "      <td>manual</td>\n",
       "      <td>NaN</td>\n",
       "      <td>rwd</td>\n",
       "      <td>full-size</td>\n",
       "      <td>truck</td>\n",
       "      <td>white</td>\n",
       "      <td>al</td>\n",
       "    </tr>\n",
       "    <tr>\n",
       "      <th>177</th>\n",
       "      <td>7316870143</td>\n",
       "      <td>birmingham</td>\n",
       "      <td>22950</td>\n",
       "      <td>2014.0</td>\n",
       "      <td>ford</td>\n",
       "      <td>f150 supercrew cab xlt</td>\n",
       "      <td>excellent</td>\n",
       "      <td>8 cylinders</td>\n",
       "      <td>gas</td>\n",
       "      <td>166380.0</td>\n",
       "      <td>clean</td>\n",
       "      <td>automatic</td>\n",
       "      <td>NaN</td>\n",
       "      <td>4wd</td>\n",
       "      <td>full-size</td>\n",
       "      <td>truck</td>\n",
       "      <td>black</td>\n",
       "      <td>al</td>\n",
       "    </tr>\n",
       "    <tr>\n",
       "      <th>193</th>\n",
       "      <td>7316734951</td>\n",
       "      <td>birmingham</td>\n",
       "      <td>5900</td>\n",
       "      <td>1998.0</td>\n",
       "      <td>ford</td>\n",
       "      <td>f150</td>\n",
       "      <td>excellent</td>\n",
       "      <td>8 cylinders</td>\n",
       "      <td>gas</td>\n",
       "      <td>214000.0</td>\n",
       "      <td>clean</td>\n",
       "      <td>automatic</td>\n",
       "      <td>NaN</td>\n",
       "      <td>NaN</td>\n",
       "      <td>full-size</td>\n",
       "      <td>truck</td>\n",
       "      <td>red</td>\n",
       "      <td>al</td>\n",
       "    </tr>\n",
       "    <tr>\n",
       "      <th>213</th>\n",
       "      <td>7316544266</td>\n",
       "      <td>birmingham</td>\n",
       "      <td>32000</td>\n",
       "      <td>2008.0</td>\n",
       "      <td>chevrolet</td>\n",
       "      <td>silverado 2500</td>\n",
       "      <td>good</td>\n",
       "      <td>8 cylinders</td>\n",
       "      <td>diesel</td>\n",
       "      <td>109600.0</td>\n",
       "      <td>clean</td>\n",
       "      <td>automatic</td>\n",
       "      <td>NaN</td>\n",
       "      <td>4wd</td>\n",
       "      <td>full-size</td>\n",
       "      <td>truck</td>\n",
       "      <td>white</td>\n",
       "      <td>al</td>\n",
       "    </tr>\n",
       "  </tbody>\n",
       "</table>\n",
       "</div>"
      ],
      "text/plain": [
       "             id      region  price    year manufacturer  \\\n",
       "31   7316356412      auburn  15000  2013.0         ford   \n",
       "65   7312847466      auburn  22500  2001.0         ford   \n",
       "177  7316870143  birmingham  22950  2014.0         ford   \n",
       "193  7316734951  birmingham   5900  1998.0         ford   \n",
       "213  7316544266  birmingham  32000  2008.0    chevrolet   \n",
       "\n",
       "                      model  condition    cylinders    fuel  odometer  \\\n",
       "31                f-150 xlt  excellent  6 cylinders     gas  128000.0   \n",
       "65                     f450       good  8 cylinders  diesel  144700.0   \n",
       "177  f150 supercrew cab xlt  excellent  8 cylinders     gas  166380.0   \n",
       "193                    f150  excellent  8 cylinders     gas  214000.0   \n",
       "213          silverado 2500       good  8 cylinders  diesel  109600.0   \n",
       "\n",
       "    title_status transmission  VIN drive       size   type paint_color state  \n",
       "31         clean    automatic  NaN   rwd  full-size  truck       black    al  \n",
       "65         clean       manual  NaN   rwd  full-size  truck       white    al  \n",
       "177        clean    automatic  NaN   4wd  full-size  truck       black    al  \n",
       "193        clean    automatic  NaN   NaN  full-size  truck         red    al  \n",
       "213        clean    automatic  NaN   4wd  full-size  truck       white    al  "
      ]
     },
     "execution_count": 16,
     "metadata": {},
     "output_type": "execute_result"
    }
   ],
   "source": [
    "vehicles_df[(vehicles_df['type'] == 'truck') & (vehicles_df['size'] == 'full-size')].head()"
   ]
  },
  {
   "cell_type": "markdown",
   "metadata": {},
   "source": [
    "Size can be used instead of type. Can use type to fill the missing size values. "
   ]
  },
  {
   "cell_type": "code",
   "execution_count": 17,
   "metadata": {},
   "outputs": [
    {
     "data": {
      "image/png": "[encoded data removed]",
      "text/plain": [
       "<Figure size 432x288 with 1 Axes>"
      ]
     },
     "metadata": {
      "needs_background": "light"
     },
     "output_type": "display_data"
    }
   ],
   "source": [
    "sns.histplot(data=vehicles_df[vehicles_df['price'] <= 100000], x=\"price\", hue=\"title_status\", kde=True, bins=50)\n",
    "plt.show()"
   ]
  },
  {
   "cell_type": "markdown",
   "metadata": {},
   "source": [
    "If the title_status of the car is not clean, then the value of the car is very low, so this is a good feature to include. "
   ]
  },
  {
   "cell_type": "code",
   "execution_count": 18,
   "metadata": {},
   "outputs": [
    {
     "data": {
      "image/png": "[encoded data removed]",
      "text/plain": [
       "<Figure size 432x288 with 1 Axes>"
      ]
     },
     "metadata": {
      "needs_background": "light"
     },
     "output_type": "display_data"
    }
   ],
   "source": [
    "plt.scatter(vehicles_df[vehicles_df['price'] <= 100000]['odometer'], vehicles_df[vehicles_df['price'] <= 100000]['price'])\n",
    "plt.xlabel('Odometer')\n",
    "plt.ylabel('Price')\n",
    "plt.title('Odometer vs Price')\n",
    "plt.show()\n"
   ]
  },
  {
   "cell_type": "markdown",
   "metadata": {},
   "source": [
    "The previous amount of miles driven on the car seems to have some impact on the price. The scale is adjusted to include vehicles with prices < 100k for a view of the relevant distribution. "
   ]
  },
  {
   "cell_type": "code",
   "execution_count": 19,
   "metadata": {},
   "outputs": [
    {
     "data": {
      "image/png": "[encoded data removed]",
      "text/plain": [
       "<Figure size 432x288 with 1 Axes>"
      ]
     },
     "metadata": {
      "needs_background": "light"
     },
     "output_type": "display_data"
    }
   ],
   "source": [
    "plt.scatter(vehicles_df[vehicles_df['price'] <= 100000]['year'], vehicles_df[vehicles_df['price'] <= 100000]['price'])\n",
    "plt.xlabel('Year')\n",
    "plt.ylabel('Price')\n",
    "plt.title('Year vs Price')\n",
    "plt.show()\n"
   ]
  },
  {
   "cell_type": "markdown",
   "metadata": {},
   "source": [
    "The scale is adjusted to include vehicles with prices < 100k for a view of the relevant distribution. The dataset contains vehicles from over a century ago, which is not needed for this project. We want more relevant data. "
   ]
  },
  {
   "cell_type": "code",
   "execution_count": 20,
   "metadata": {},
   "outputs": [
    {
     "data": {
      "image/png": "[encoded data removed]",
      "text/plain": [
       "<Figure size 432x288 with 1 Axes>"
      ]
     },
     "metadata": {
      "needs_background": "light"
     },
     "output_type": "display_data"
    }
   ],
   "source": [
    "plt.scatter(vehicles_df[(vehicles_df['price'] <= 100000) & (vehicles_df['year'] > 1980)]['year'], vehicles_df[(vehicles_df['price'] <= 100000) & (vehicles_df['year'] > 1980)]['price'])\n",
    "plt.xlabel('Year')\n",
    "plt.ylabel('Price')\n",
    "plt.title('Year vs Price')\n",
    "plt.show()"
   ]
  },
  {
   "cell_type": "markdown",
   "metadata": {},
   "source": [
    "After adjusting the years to look at the year by price after year 1980, we can see that the max price increases as the year increases. "
   ]
  },
  {
   "cell_type": "code",
   "execution_count": 21,
   "metadata": {},
   "outputs": [
    {
     "name": "stdout",
     "output_type": "stream",
     "text": [
      "Min price value that aren't outliers: 0\n",
      "Max price value that aren't outliers: 57341\n"
     ]
    }
   ],
   "source": [
    "Q1 = vehicles_df['price'].quantile(0.25)\n",
    "Q3 = vehicles_df['price'].quantile(0.75)\n",
    "IQR = Q3 - Q1\n",
    "\n",
    "# Calculate the min and max price value that aren't outliers\n",
    "min_price = vehicles_df['price'].loc[vehicles_df['price'] >= Q1 - 1.5*IQR].min()\n",
    "max_price = vehicles_df['price'].loc[vehicles_df['price'] <= Q3 + 1.5*IQR].max()\n",
    "\n",
    "print(\"Min price value that aren't outliers:\", min_price)\n",
    "print(\"Max price value that aren't outliers:\", max_price)"
   ]
  },
  {
   "cell_type": "markdown",
   "metadata": {},
   "source": [
    "The max price value that isn't an outlier is ~$58k. To include more vehicles and prices, the data kept should be vehicles with prices up to $100k to $150k. "
   ]
  },
  {
   "cell_type": "markdown",
   "metadata": {},
   "source": [
    "#### Verify Data Quality"
   ]
  },
  {
   "cell_type": "markdown",
   "metadata": {},
   "source": [
    "The data quality is not the best. There are some absurdities in some of the feature values, such as where price of a used car is too high for the make and model that it corresponds to. Additionally, there are many features with null/empty values that need to be dealt with. Also, some features are simply not relevant to the modeling and data analysis. \n",
    "\n",
    "Here are a few things that I plan to do to improve the data quality, based on my initial exploration of the data:\n",
    "\n",
    "1. Drop the irrelevant features of the data\n",
    "2. Drop entities where the price of the cars are absurdly high or remove the outlier prices\n",
    "3. Attempt to fill the null/empty values with correct values for the data"
   ]
  },
  {
   "cell_type": "markdown",
   "metadata": {},
   "source": [
    "### Data Preparation\n",
    "\n",
    "After our initial exploration and fine tuning of the business understanding, it is time to construct our final dataset prior to modeling.  Here, we want to make sure to handle any integrity issues and cleaning, the engineering of new features, any transformations that we believe should happen (scaling, logarithms, normalization, etc.), and general preparation for modeling with `sklearn`. "
   ]
  },
  {
   "cell_type": "markdown",
   "metadata": {},
   "source": [
    "#### Select Data"
   ]
  },
  {
   "cell_type": "code",
   "execution_count": 22,
   "metadata": {},
   "outputs": [
    {
     "data": {
      "text/html": [
       "<div>\n",
       "<style scoped>\n",
       "    .dataframe tbody tr th:only-of-type {\n",
       "        vertical-align: middle;\n",
       "    }\n",
       "\n",
       "    .dataframe tbody tr th {\n",
       "        vertical-align: top;\n",
       "    }\n",
       "\n",
       "    .dataframe thead th {\n",
       "        text-align: right;\n",
       "    }\n",
       "</style>\n",
       "<table border=\"1\" class=\"dataframe\">\n",
       "  <thead>\n",
       "    <tr style=\"text-align: right;\">\n",
       "      <th></th>\n",
       "      <th>price</th>\n",
       "      <th>year</th>\n",
       "      <th>manufacturer</th>\n",
       "      <th>model</th>\n",
       "      <th>condition</th>\n",
       "      <th>cylinders</th>\n",
       "      <th>odometer</th>\n",
       "      <th>title_status</th>\n",
       "      <th>transmission</th>\n",
       "      <th>drive</th>\n",
       "      <th>size</th>\n",
       "      <th>type</th>\n",
       "      <th>paint_color</th>\n",
       "      <th>state</th>\n",
       "    </tr>\n",
       "  </thead>\n",
       "  <tbody>\n",
       "    <tr>\n",
       "      <th>0</th>\n",
       "      <td>6000</td>\n",
       "      <td>NaN</td>\n",
       "      <td>NaN</td>\n",
       "      <td>NaN</td>\n",
       "      <td>NaN</td>\n",
       "      <td>NaN</td>\n",
       "      <td>NaN</td>\n",
       "      <td>NaN</td>\n",
       "      <td>NaN</td>\n",
       "      <td>NaN</td>\n",
       "      <td>NaN</td>\n",
       "      <td>NaN</td>\n",
       "      <td>NaN</td>\n",
       "      <td>az</td>\n",
       "    </tr>\n",
       "    <tr>\n",
       "      <th>1</th>\n",
       "      <td>11900</td>\n",
       "      <td>NaN</td>\n",
       "      <td>NaN</td>\n",
       "      <td>NaN</td>\n",
       "      <td>NaN</td>\n",
       "      <td>NaN</td>\n",
       "      <td>NaN</td>\n",
       "      <td>NaN</td>\n",
       "      <td>NaN</td>\n",
       "      <td>NaN</td>\n",
       "      <td>NaN</td>\n",
       "      <td>NaN</td>\n",
       "      <td>NaN</td>\n",
       "      <td>ar</td>\n",
       "    </tr>\n",
       "    <tr>\n",
       "      <th>2</th>\n",
       "      <td>21000</td>\n",
       "      <td>NaN</td>\n",
       "      <td>NaN</td>\n",
       "      <td>NaN</td>\n",
       "      <td>NaN</td>\n",
       "      <td>NaN</td>\n",
       "      <td>NaN</td>\n",
       "      <td>NaN</td>\n",
       "      <td>NaN</td>\n",
       "      <td>NaN</td>\n",
       "      <td>NaN</td>\n",
       "      <td>NaN</td>\n",
       "      <td>NaN</td>\n",
       "      <td>fl</td>\n",
       "    </tr>\n",
       "    <tr>\n",
       "      <th>3</th>\n",
       "      <td>1500</td>\n",
       "      <td>NaN</td>\n",
       "      <td>NaN</td>\n",
       "      <td>NaN</td>\n",
       "      <td>NaN</td>\n",
       "      <td>NaN</td>\n",
       "      <td>NaN</td>\n",
       "      <td>NaN</td>\n",
       "      <td>NaN</td>\n",
       "      <td>NaN</td>\n",
       "      <td>NaN</td>\n",
       "      <td>NaN</td>\n",
       "      <td>NaN</td>\n",
       "      <td>ma</td>\n",
       "    </tr>\n",
       "    <tr>\n",
       "      <th>4</th>\n",
       "      <td>4900</td>\n",
       "      <td>NaN</td>\n",
       "      <td>NaN</td>\n",
       "      <td>NaN</td>\n",
       "      <td>NaN</td>\n",
       "      <td>NaN</td>\n",
       "      <td>NaN</td>\n",
       "      <td>NaN</td>\n",
       "      <td>NaN</td>\n",
       "      <td>NaN</td>\n",
       "      <td>NaN</td>\n",
       "      <td>NaN</td>\n",
       "      <td>NaN</td>\n",
       "      <td>nc</td>\n",
       "    </tr>\n",
       "  </tbody>\n",
       "</table>\n",
       "</div>"
      ],
      "text/plain": [
       "   price  year manufacturer model condition cylinders  odometer title_status  \\\n",
       "0   6000   NaN          NaN   NaN       NaN       NaN       NaN          NaN   \n",
       "1  11900   NaN          NaN   NaN       NaN       NaN       NaN          NaN   \n",
       "2  21000   NaN          NaN   NaN       NaN       NaN       NaN          NaN   \n",
       "3   1500   NaN          NaN   NaN       NaN       NaN       NaN          NaN   \n",
       "4   4900   NaN          NaN   NaN       NaN       NaN       NaN          NaN   \n",
       "\n",
       "  transmission drive size type paint_color state  \n",
       "0          NaN   NaN  NaN  NaN         NaN    az  \n",
       "1          NaN   NaN  NaN  NaN         NaN    ar  \n",
       "2          NaN   NaN  NaN  NaN         NaN    fl  \n",
       "3          NaN   NaN  NaN  NaN         NaN    ma  \n",
       "4          NaN   NaN  NaN  NaN         NaN    nc  "
      ]
     },
     "execution_count": 22,
     "metadata": {},
     "output_type": "execute_result"
    }
   ],
   "source": [
    "selected_data = vehicles_df\n",
    "\n",
    "# Drop id and VIN\n",
    "selected_data = selected_data.drop(columns=['id', 'VIN'])\n",
    "\n",
    "# drop region, fuel, and size\n",
    "selected_data = selected_data.drop(columns=['region', 'fuel'])\n",
    "\n",
    "selected_data.head()"
   ]
  },
  {
   "cell_type": "code",
   "execution_count": 23,
   "metadata": {},
   "outputs": [
    {
     "name": "stdout",
     "output_type": "stream",
     "text": [
      "<class 'pandas.core.frame.DataFrame'>\n",
      "RangeIndex: 426880 entries, 0 to 426879\n",
      "Data columns (total 14 columns):\n",
      " #   Column        Non-Null Count   Dtype  \n",
      "---  ------        --------------   -----  \n",
      " 0   price         426880 non-null  int64  \n",
      " 1   year          425675 non-null  float64\n",
      " 2   manufacturer  409234 non-null  object \n",
      " 3   model         421603 non-null  object \n",
      " 4   condition     252776 non-null  object \n",
      " 5   cylinders     249202 non-null  object \n",
      " 6   odometer      422480 non-null  float64\n",
      " 7   title_status  418638 non-null  object \n",
      " 8   transmission  424324 non-null  object \n",
      " 9   drive         296313 non-null  object \n",
      " 10  size          120519 non-null  object \n",
      " 11  type          334022 non-null  object \n",
      " 12  paint_color   296677 non-null  object \n",
      " 13  state         426880 non-null  object \n",
      "dtypes: float64(2), int64(1), object(11)\n",
      "memory usage: 45.6+ MB\n"
     ]
    }
   ],
   "source": [
    "selected_data.info()"
   ]
  },
  {
   "cell_type": "markdown",
   "metadata": {},
   "source": [
    "Based on the data exploratory analysis, we decided to drop the unneeded featues of id, VIN, region, and fuel. "
   ]
  },
  {
   "cell_type": "markdown",
   "metadata": {},
   "source": [
    "#### Clean Data"
   ]
  },
  {
   "cell_type": "code",
   "execution_count": 24,
   "metadata": {},
   "outputs": [
    {
     "data": {
      "text/html": [
       "<div>\n",
       "<style scoped>\n",
       "    .dataframe tbody tr th:only-of-type {\n",
       "        vertical-align: middle;\n",
       "    }\n",
       "\n",
       "    .dataframe tbody tr th {\n",
       "        vertical-align: top;\n",
       "    }\n",
       "\n",
       "    .dataframe thead th {\n",
       "        text-align: right;\n",
       "    }\n",
       "</style>\n",
       "<table border=\"1\" class=\"dataframe\">\n",
       "  <thead>\n",
       "    <tr style=\"text-align: right;\">\n",
       "      <th></th>\n",
       "      <th>price</th>\n",
       "      <th>year</th>\n",
       "      <th>manufacturer</th>\n",
       "      <th>model</th>\n",
       "      <th>condition</th>\n",
       "      <th>cylinders</th>\n",
       "      <th>odometer</th>\n",
       "      <th>title_status</th>\n",
       "      <th>transmission</th>\n",
       "      <th>drive</th>\n",
       "      <th>size</th>\n",
       "      <th>type</th>\n",
       "      <th>paint_color</th>\n",
       "      <th>state</th>\n",
       "    </tr>\n",
       "  </thead>\n",
       "  <tbody>\n",
       "    <tr>\n",
       "      <th>27</th>\n",
       "      <td>33590</td>\n",
       "      <td>2014.0</td>\n",
       "      <td>gmc</td>\n",
       "      <td>sierra 1500 crew cab slt</td>\n",
       "      <td>good</td>\n",
       "      <td>8 cylinders</td>\n",
       "      <td>57923.0</td>\n",
       "      <td>clean</td>\n",
       "      <td>other</td>\n",
       "      <td>NaN</td>\n",
       "      <td>NaN</td>\n",
       "      <td>pickup</td>\n",
       "      <td>white</td>\n",
       "      <td>al</td>\n",
       "    </tr>\n",
       "    <tr>\n",
       "      <th>28</th>\n",
       "      <td>22590</td>\n",
       "      <td>2010.0</td>\n",
       "      <td>chevrolet</td>\n",
       "      <td>silverado 1500</td>\n",
       "      <td>good</td>\n",
       "      <td>8 cylinders</td>\n",
       "      <td>71229.0</td>\n",
       "      <td>clean</td>\n",
       "      <td>other</td>\n",
       "      <td>NaN</td>\n",
       "      <td>NaN</td>\n",
       "      <td>pickup</td>\n",
       "      <td>blue</td>\n",
       "      <td>al</td>\n",
       "    </tr>\n",
       "    <tr>\n",
       "      <th>29</th>\n",
       "      <td>39590</td>\n",
       "      <td>2020.0</td>\n",
       "      <td>chevrolet</td>\n",
       "      <td>silverado 1500 crew</td>\n",
       "      <td>good</td>\n",
       "      <td>8 cylinders</td>\n",
       "      <td>19160.0</td>\n",
       "      <td>clean</td>\n",
       "      <td>other</td>\n",
       "      <td>NaN</td>\n",
       "      <td>NaN</td>\n",
       "      <td>pickup</td>\n",
       "      <td>red</td>\n",
       "      <td>al</td>\n",
       "    </tr>\n",
       "    <tr>\n",
       "      <th>30</th>\n",
       "      <td>30990</td>\n",
       "      <td>2017.0</td>\n",
       "      <td>toyota</td>\n",
       "      <td>tundra double cab sr</td>\n",
       "      <td>good</td>\n",
       "      <td>8 cylinders</td>\n",
       "      <td>41124.0</td>\n",
       "      <td>clean</td>\n",
       "      <td>other</td>\n",
       "      <td>NaN</td>\n",
       "      <td>NaN</td>\n",
       "      <td>pickup</td>\n",
       "      <td>red</td>\n",
       "      <td>al</td>\n",
       "    </tr>\n",
       "    <tr>\n",
       "      <th>31</th>\n",
       "      <td>15000</td>\n",
       "      <td>2013.0</td>\n",
       "      <td>ford</td>\n",
       "      <td>f-150 xlt</td>\n",
       "      <td>excellent</td>\n",
       "      <td>6 cylinders</td>\n",
       "      <td>128000.0</td>\n",
       "      <td>clean</td>\n",
       "      <td>automatic</td>\n",
       "      <td>rwd</td>\n",
       "      <td>full-size</td>\n",
       "      <td>truck</td>\n",
       "      <td>black</td>\n",
       "      <td>al</td>\n",
       "    </tr>\n",
       "  </tbody>\n",
       "</table>\n",
       "</div>"
      ],
      "text/plain": [
       "    price    year manufacturer                     model  condition  \\\n",
       "27  33590  2014.0          gmc  sierra 1500 crew cab slt       good   \n",
       "28  22590  2010.0    chevrolet            silverado 1500       good   \n",
       "29  39590  2020.0    chevrolet       silverado 1500 crew       good   \n",
       "30  30990  2017.0       toyota      tundra double cab sr       good   \n",
       "31  15000  2013.0         ford                 f-150 xlt  excellent   \n",
       "\n",
       "      cylinders  odometer title_status transmission drive       size    type  \\\n",
       "27  8 cylinders   57923.0        clean        other   NaN        NaN  pickup   \n",
       "28  8 cylinders   71229.0        clean        other   NaN        NaN  pickup   \n",
       "29  8 cylinders   19160.0        clean        other   NaN        NaN  pickup   \n",
       "30  8 cylinders   41124.0        clean        other   NaN        NaN  pickup   \n",
       "31  6 cylinders  128000.0        clean    automatic   rwd  full-size   truck   \n",
       "\n",
       "   paint_color state  \n",
       "27       white    al  \n",
       "28        blue    al  \n",
       "29         red    al  \n",
       "30         red    al  \n",
       "31       black    al  "
      ]
     },
     "execution_count": 24,
     "metadata": {},
     "output_type": "execute_result"
    }
   ],
   "source": [
    "cleaned_data = selected_data\n",
    "\n",
    "# keep rows with price between below 150000\n",
    "cleaned_data = cleaned_data[(cleaned_data['price'] <= 150000)]\n",
    "\n",
    "# keep data after year 2000\n",
    "cleaned_data = cleaned_data[cleaned_data['year'] >= 2000]\n",
    "\n",
    "cleaned_data.head()"
   ]
  },
  {
   "cell_type": "code",
   "execution_count": 25,
   "metadata": {},
   "outputs": [
    {
     "name": "stdout",
     "output_type": "stream",
     "text": [
      "<class 'pandas.core.frame.DataFrame'>\n",
      "Int64Index: 400264 entries, 27 to 426879\n",
      "Data columns (total 14 columns):\n",
      " #   Column        Non-Null Count   Dtype  \n",
      "---  ------        --------------   -----  \n",
      " 0   price         400264 non-null  int64  \n",
      " 1   year          400264 non-null  float64\n",
      " 2   manufacturer  387266 non-null  object \n",
      " 3   model         396586 non-null  object \n",
      " 4   condition     234445 non-null  object \n",
      " 5   cylinders     230249 non-null  object \n",
      " 6   odometer      396015 non-null  float64\n",
      " 7   title_status  392447 non-null  object \n",
      " 8   transmission  397825 non-null  object \n",
      " 9   drive         278427 non-null  object \n",
      " 10  size          109586 non-null  object \n",
      " 11  type          317137 non-null  object \n",
      " 12  paint_color   278897 non-null  object \n",
      " 13  state         400264 non-null  object \n",
      "dtypes: float64(2), int64(1), object(11)\n",
      "memory usage: 45.8+ MB\n"
     ]
    }
   ],
   "source": [
    "cleaned_data.info()"
   ]
  },
  {
   "cell_type": "markdown",
   "metadata": {},
   "source": [
    "To clean the data, remove cars from years before 2000 and cars that cost more than $150k. This was determined from our exploratory data analysis. "
   ]
  },
  {
   "cell_type": "markdown",
   "metadata": {},
   "source": [
    "#### Construct and Integrate Data"
   ]
  },
  {
   "cell_type": "code",
   "execution_count": 26,
   "metadata": {},
   "outputs": [],
   "source": [
    "def fillData(source_df, dest_df, key_col, val_col):\n",
    "    data = source_df[[key_col, val_col]].dropna()\n",
    "    data = data.drop_duplicates(subset=[key_col])\n",
    "\n",
    "    data_dict = dict(zip(data[key_col], data[val_col]))\n",
    "\n",
    "    dest_df[val_col] = dest_df[key_col].map(data_dict)"
   ]
  },
  {
   "cell_type": "code",
   "execution_count": 27,
   "metadata": {},
   "outputs": [
    {
     "data": {
      "text/html": [
       "<div>\n",
       "<style scoped>\n",
       "    .dataframe tbody tr th:only-of-type {\n",
       "        vertical-align: middle;\n",
       "    }\n",
       "\n",
       "    .dataframe tbody tr th {\n",
       "        vertical-align: top;\n",
       "    }\n",
       "\n",
       "    .dataframe thead th {\n",
       "        text-align: right;\n",
       "    }\n",
       "</style>\n",
       "<table border=\"1\" class=\"dataframe\">\n",
       "  <thead>\n",
       "    <tr style=\"text-align: right;\">\n",
       "      <th></th>\n",
       "      <th>price</th>\n",
       "      <th>year</th>\n",
       "      <th>manufacturer</th>\n",
       "      <th>model</th>\n",
       "      <th>condition</th>\n",
       "      <th>cylinders</th>\n",
       "      <th>odometer</th>\n",
       "      <th>title_status</th>\n",
       "      <th>transmission</th>\n",
       "      <th>drive</th>\n",
       "      <th>size</th>\n",
       "      <th>type</th>\n",
       "      <th>paint_color</th>\n",
       "      <th>state</th>\n",
       "    </tr>\n",
       "  </thead>\n",
       "  <tbody>\n",
       "    <tr>\n",
       "      <th>27</th>\n",
       "      <td>33590</td>\n",
       "      <td>2014.0</td>\n",
       "      <td>gmc</td>\n",
       "      <td>sierra 1500 crew cab slt</td>\n",
       "      <td>good</td>\n",
       "      <td>8 cylinders</td>\n",
       "      <td>57923.0</td>\n",
       "      <td>clean</td>\n",
       "      <td>other</td>\n",
       "      <td>4wd</td>\n",
       "      <td>full-size</td>\n",
       "      <td>pickup</td>\n",
       "      <td>white</td>\n",
       "      <td>al</td>\n",
       "    </tr>\n",
       "    <tr>\n",
       "      <th>28</th>\n",
       "      <td>22590</td>\n",
       "      <td>2010.0</td>\n",
       "      <td>chevrolet</td>\n",
       "      <td>silverado 1500</td>\n",
       "      <td>good</td>\n",
       "      <td>8 cylinders</td>\n",
       "      <td>71229.0</td>\n",
       "      <td>clean</td>\n",
       "      <td>other</td>\n",
       "      <td>4wd</td>\n",
       "      <td>full-size</td>\n",
       "      <td>pickup</td>\n",
       "      <td>blue</td>\n",
       "      <td>al</td>\n",
       "    </tr>\n",
       "    <tr>\n",
       "      <th>29</th>\n",
       "      <td>39590</td>\n",
       "      <td>2020.0</td>\n",
       "      <td>chevrolet</td>\n",
       "      <td>silverado 1500 crew</td>\n",
       "      <td>good</td>\n",
       "      <td>8 cylinders</td>\n",
       "      <td>19160.0</td>\n",
       "      <td>clean</td>\n",
       "      <td>other</td>\n",
       "      <td>4wd</td>\n",
       "      <td>full-size</td>\n",
       "      <td>pickup</td>\n",
       "      <td>red</td>\n",
       "      <td>al</td>\n",
       "    </tr>\n",
       "    <tr>\n",
       "      <th>30</th>\n",
       "      <td>30990</td>\n",
       "      <td>2017.0</td>\n",
       "      <td>toyota</td>\n",
       "      <td>tundra double cab sr</td>\n",
       "      <td>good</td>\n",
       "      <td>8 cylinders</td>\n",
       "      <td>41124.0</td>\n",
       "      <td>clean</td>\n",
       "      <td>other</td>\n",
       "      <td>4wd</td>\n",
       "      <td>full-size</td>\n",
       "      <td>pickup</td>\n",
       "      <td>red</td>\n",
       "      <td>al</td>\n",
       "    </tr>\n",
       "    <tr>\n",
       "      <th>31</th>\n",
       "      <td>15000</td>\n",
       "      <td>2013.0</td>\n",
       "      <td>ford</td>\n",
       "      <td>f-150 xlt</td>\n",
       "      <td>excellent</td>\n",
       "      <td>6 cylinders</td>\n",
       "      <td>128000.0</td>\n",
       "      <td>clean</td>\n",
       "      <td>automatic</td>\n",
       "      <td>rwd</td>\n",
       "      <td>full-size</td>\n",
       "      <td>truck</td>\n",
       "      <td>black</td>\n",
       "      <td>al</td>\n",
       "    </tr>\n",
       "  </tbody>\n",
       "</table>\n",
       "</div>"
      ],
      "text/plain": [
       "    price    year manufacturer                     model  condition  \\\n",
       "27  33590  2014.0          gmc  sierra 1500 crew cab slt       good   \n",
       "28  22590  2010.0    chevrolet            silverado 1500       good   \n",
       "29  39590  2020.0    chevrolet       silverado 1500 crew       good   \n",
       "30  30990  2017.0       toyota      tundra double cab sr       good   \n",
       "31  15000  2013.0         ford                 f-150 xlt  excellent   \n",
       "\n",
       "      cylinders  odometer title_status transmission drive       size    type  \\\n",
       "27  8 cylinders   57923.0        clean        other   4wd  full-size  pickup   \n",
       "28  8 cylinders   71229.0        clean        other   4wd  full-size  pickup   \n",
       "29  8 cylinders   19160.0        clean        other   4wd  full-size  pickup   \n",
       "30  8 cylinders   41124.0        clean        other   4wd  full-size  pickup   \n",
       "31  6 cylinders  128000.0        clean    automatic   rwd  full-size   truck   \n",
       "\n",
       "   paint_color state  \n",
       "27       white    al  \n",
       "28        blue    al  \n",
       "29         red    al  \n",
       "30         red    al  \n",
       "31       black    al  "
      ]
     },
     "execution_count": 27,
     "metadata": {},
     "output_type": "execute_result"
    }
   ],
   "source": [
    "final_data = cleaned_data\n",
    "source_data = vehicles_df\n",
    "source_data['make_model'] = source_data['manufacturer'] + ' ' + source_data['model']\n",
    "\n",
    "# fill manufacturer based on model\n",
    "fillData(source_data, final_data, 'model', 'manufacturer')\n",
    "\n",
    "final_data['make_model'] = final_data['manufacturer'] + ' ' + final_data['model']\n",
    "\n",
    "# fill cylinders based on make_model\n",
    "fillData(source_data, final_data, 'make_model', 'cylinders')\n",
    "\n",
    "# fill transmission based on make_model\n",
    "fillData(source_data, final_data, 'make_model', 'transmission')\n",
    "\n",
    "# fill drive based on make_model\n",
    "fillData(source_data, final_data, 'make_model', 'drive')\n",
    "\n",
    "# fill size based on type\n",
    "fillData(source_data, final_data, 'type', 'size')\n",
    "\n",
    "# drop make_model and state\n",
    "final_data = final_data.drop(columns=['make_model'])\n",
    "\n",
    "final_data.head()\n"
   ]
  },
  {
   "cell_type": "code",
   "execution_count": 28,
   "metadata": {},
   "outputs": [],
   "source": [
    "# drop duplicate rows\n",
    "final_data = final_data.drop_duplicates()"
   ]
  },
  {
   "cell_type": "code",
   "execution_count": 29,
   "metadata": {},
   "outputs": [],
   "source": [
    "# drop rows with missing values\n",
    "final_data = final_data.dropna()"
   ]
  },
  {
   "cell_type": "code",
   "execution_count": 30,
   "metadata": {},
   "outputs": [
    {
     "name": "stdout",
     "output_type": "stream",
     "text": [
      "<class 'pandas.core.frame.DataFrame'>\n",
      "Int64Index: 105029 entries, 27 to 426878\n",
      "Data columns (total 14 columns):\n",
      " #   Column        Non-Null Count   Dtype  \n",
      "---  ------        --------------   -----  \n",
      " 0   price         105029 non-null  int64  \n",
      " 1   year          105029 non-null  float64\n",
      " 2   manufacturer  105029 non-null  object \n",
      " 3   model         105029 non-null  object \n",
      " 4   condition     105029 non-null  object \n",
      " 5   cylinders     105029 non-null  object \n",
      " 6   odometer      105029 non-null  float64\n",
      " 7   title_status  105029 non-null  object \n",
      " 8   transmission  105029 non-null  object \n",
      " 9   drive         105029 non-null  object \n",
      " 10  size          105029 non-null  object \n",
      " 11  type          105029 non-null  object \n",
      " 12  paint_color   105029 non-null  object \n",
      " 13  state         105029 non-null  object \n",
      "dtypes: float64(2), int64(1), object(11)\n",
      "memory usage: 12.0+ MB\n"
     ]
    }
   ],
   "source": [
    "final_data.info()"
   ]
  },
  {
   "cell_type": "markdown",
   "metadata": {},
   "source": [
    "To construct and integrate the data, fill the missing values based on values already in the data set. For the rest of the entities that still have null values remaining after this process, drop entities that contain any null features. Also, drop any duplicate entities. "
   ]
  },
  {
   "cell_type": "markdown",
   "metadata": {},
   "source": [
    "### Modeling\n",
    "\n",
    "With your (almost?) final dataset in hand, it is now time to build some models.  Here, you should build a number of different regression models with the price as the target.  In building your models, you should explore different parameters and be sure to cross-validate your findings."
   ]
  },
  {
   "cell_type": "markdown",
   "metadata": {},
   "source": [
    "#### Select Modeling Technique\n",
    "\n",
    "The modeling technique that will be used is Linear Regression as the goal is to use multiple features to predict a numerical value. We will use Normal Linear Regression and Ridge Linear Regression"
   ]
  },
  {
   "cell_type": "markdown",
   "metadata": {},
   "source": [
    "#### Generate Test Design\n",
    "\n",
    "We will split the data into train and dev sets and utilize R2 and MSE to determine the best model. We will also utilize cross validation to prevent overfitting and to select the best model."
   ]
  },
  {
   "cell_type": "markdown",
   "metadata": {},
   "source": [
    "#### Build Model"
   ]
  },
  {
   "cell_type": "code",
   "execution_count": 31,
   "metadata": {},
   "outputs": [],
   "source": [
    "import numpy as np\n",
    "import pandas as pd\n",
    "from sklearn.model_selection import train_test_split, GridSearchCV, cross_val_score\n",
    "from sklearn.compose import ColumnTransformer\n",
    "from sklearn.pipeline import Pipeline\n",
    "from sklearn.preprocessing import StandardScaler, OneHotEncoder, PolynomialFeatures\n",
    "from sklearn.linear_model import Lasso, Ridge, LinearRegression\n",
    "from sklearn.metrics import r2_score, mean_squared_error\n",
    "from sklearn.feature_selection import SequentialFeatureSelector\n",
    "from sklearn.inspection import permutation_importance"
   ]
  },
  {
   "cell_type": "code",
   "execution_count": 32,
   "metadata": {},
   "outputs": [],
   "source": [
    "X = final_data.drop(columns=['price'])\n",
    "y = final_data['price']\n",
    "\n",
    "# Perform train-test split\n",
    "X_train, X_test, y_train, y_test = train_test_split(X, y, test_size=0.25, random_state=42)\n",
    "\n",
    "categorical_columns = ['manufacturer', 'model', 'condition', 'cylinders', 'title_status', 'transmission', 'drive', 'type', 'paint_color', 'size', 'state']\n",
    "numerical_columns = ['year', 'odometer']"
   ]
  },
  {
   "cell_type": "code",
   "execution_count": 33,
   "metadata": {},
   "outputs": [],
   "source": [
    "# Create a transformer for categorical features\n",
    "categorical_transformer = Pipeline(steps=[\n",
    "    ('onehot', OneHotEncoder(handle_unknown='ignore'))\n",
    "])\n",
    "\n",
    "# Create a transformer for numerical features\n",
    "numerical_transformer = Pipeline(steps=[\n",
    "    ('poly', PolynomialFeatures(degree=3, include_bias=False)),\n",
    "    ('scaler', StandardScaler())\n",
    "])\n",
    "\n",
    "# Combine transformers using ColumnTransformer\n",
    "preprocessor = ColumnTransformer(\n",
    "    transformers=[\n",
    "        ('num', numerical_transformer, numerical_columns),\n",
    "        ('cat', categorical_transformer, categorical_columns)\n",
    "    ]\n",
    ")"
   ]
  },
  {
   "cell_type": "code",
   "execution_count": 34,
   "metadata": {},
   "outputs": [
    {
     "name": "stdout",
     "output_type": "stream",
     "text": [
      "R-squared score: 0.6921249000000591\n",
      "Mean squared error: 53051003.73212796\n"
     ]
    }
   ],
   "source": [
    "\n",
    "# Create a new pipeline with the preprocessor and linear regression model\n",
    "pipeline = Pipeline(steps=[\n",
    "    ('preprocessor', preprocessor),\n",
    "    ('regressor', LinearRegression())\n",
    "])\n",
    "\n",
    "# Fit the pipeline to the training data\n",
    "pipeline.fit(X_train, y_train)\n",
    "\n",
    "# Make predictions on the test data\n",
    "y_pred = pipeline.predict(X_test)\n",
    "\n",
    "# Calculate the accuracy (R-squared score)\n",
    "r2 = r2_score(y_test, y_pred)\n",
    "print('R-squared score:', r2)\n",
    "\n",
    "# Calculate the mean squared error\n",
    "mse = mean_squared_error(y_test, y_pred)\n",
    "print('Mean squared error:', mse)\n"
   ]
  },
  {
   "cell_type": "code",
   "execution_count": 35,
   "metadata": {},
   "outputs": [
    {
     "data": {
      "text/html": [
       "<div>\n",
       "<style scoped>\n",
       "    .dataframe tbody tr th:only-of-type {\n",
       "        vertical-align: middle;\n",
       "    }\n",
       "\n",
       "    .dataframe tbody tr th {\n",
       "        vertical-align: top;\n",
       "    }\n",
       "\n",
       "    .dataframe thead th {\n",
       "        text-align: right;\n",
       "    }\n",
       "</style>\n",
       "<table border=\"1\" class=\"dataframe\">\n",
       "  <thead>\n",
       "    <tr style=\"text-align: right;\">\n",
       "      <th></th>\n",
       "      <th>feature</th>\n",
       "      <th>importance</th>\n",
       "    </tr>\n",
       "  </thead>\n",
       "  <tbody>\n",
       "    <tr>\n",
       "      <th>0</th>\n",
       "      <td>year</td>\n",
       "      <td>0.376950</td>\n",
       "    </tr>\n",
       "    <tr>\n",
       "      <th>2</th>\n",
       "      <td>model</td>\n",
       "      <td>0.273083</td>\n",
       "    </tr>\n",
       "    <tr>\n",
       "      <th>4</th>\n",
       "      <td>cylinders</td>\n",
       "      <td>0.153426</td>\n",
       "    </tr>\n",
       "    <tr>\n",
       "      <th>5</th>\n",
       "      <td>odometer</td>\n",
       "      <td>0.067552</td>\n",
       "    </tr>\n",
       "    <tr>\n",
       "      <th>1</th>\n",
       "      <td>manufacturer</td>\n",
       "      <td>0.054690</td>\n",
       "    </tr>\n",
       "    <tr>\n",
       "      <th>7</th>\n",
       "      <td>transmission</td>\n",
       "      <td>0.041657</td>\n",
       "    </tr>\n",
       "    <tr>\n",
       "      <th>8</th>\n",
       "      <td>drive</td>\n",
       "      <td>0.021876</td>\n",
       "    </tr>\n",
       "    <tr>\n",
       "      <th>12</th>\n",
       "      <td>state</td>\n",
       "      <td>0.011682</td>\n",
       "    </tr>\n",
       "    <tr>\n",
       "      <th>10</th>\n",
       "      <td>type</td>\n",
       "      <td>0.008683</td>\n",
       "    </tr>\n",
       "    <tr>\n",
       "      <th>3</th>\n",
       "      <td>condition</td>\n",
       "      <td>0.006734</td>\n",
       "    </tr>\n",
       "    <tr>\n",
       "      <th>6</th>\n",
       "      <td>title_status</td>\n",
       "      <td>0.002769</td>\n",
       "    </tr>\n",
       "    <tr>\n",
       "      <th>11</th>\n",
       "      <td>paint_color</td>\n",
       "      <td>0.000541</td>\n",
       "    </tr>\n",
       "    <tr>\n",
       "      <th>9</th>\n",
       "      <td>size</td>\n",
       "      <td>0.000132</td>\n",
       "    </tr>\n",
       "  </tbody>\n",
       "</table>\n",
       "</div>"
      ],
      "text/plain": [
       "         feature  importance\n",
       "0           year    0.376950\n",
       "2          model    0.273083\n",
       "4      cylinders    0.153426\n",
       "5       odometer    0.067552\n",
       "1   manufacturer    0.054690\n",
       "7   transmission    0.041657\n",
       "8          drive    0.021876\n",
       "12         state    0.011682\n",
       "10          type    0.008683\n",
       "3      condition    0.006734\n",
       "6   title_status    0.002769\n",
       "11   paint_color    0.000541\n",
       "9           size    0.000132"
      ]
     },
     "execution_count": 35,
     "metadata": {},
     "output_type": "execute_result"
    }
   ],
   "source": [
    "# Calculate permutation importance\n",
    "perm_importance = permutation_importance(pipeline, X_test, y_test, n_repeats=30, random_state=42)\n",
    "\n",
    "# Access feature importances\n",
    "feature_importances = perm_importance.importances_mean\n",
    "\n",
    "# Get feature names\n",
    "feature_names = X.columns\n",
    "\n",
    "# Create a DataFrame with the feature names and feature importances. Sort by feature importance.\n",
    "feature_df = pd.DataFrame({'feature': feature_names, 'importance': feature_importances}).sort_values('importance', ascending=False)\n",
    "\n",
    "feature_df"
   ]
  },
  {
   "cell_type": "code",
   "execution_count": 36,
   "metadata": {},
   "outputs": [
    {
     "name": "stdout",
     "output_type": "stream",
     "text": [
      "\n",
      "Ridge Best Parameters:  {'ridge__alpha': 2.154434690031882}\n",
      "Ridge Best Cross-Validation Score: -53104294.89\n",
      "Ridge Test Score: -53288398.07\n",
      "Mean squared error: 53288398.07193539\n",
      "R-squared score: 0.6907472105886263\n"
     ]
    }
   ],
   "source": [
    "# Create a pipeline with Ridge regression\n",
    "ridge_pipeline = Pipeline(steps=[\n",
    "    ('preprocessor', preprocessor),\n",
    "    ('ridge', Ridge())\n",
    "])\n",
    "\n",
    "ridge_param_grid = {\n",
    "    'ridge__alpha': 10**np.linspace(-3, 3, 10)\n",
    "}\n",
    "\n",
    "# Perform GridSearchCV with cross-validation for Ridge\n",
    "ridge_grid_search = GridSearchCV(ridge_pipeline, ridge_param_grid, scoring=\"neg_mean_squared_error\", cv=5)\n",
    "ridge_grid_search.fit(X_train, y_train)\n",
    "\n",
    "print(\"\\nRidge Best Parameters: \", ridge_grid_search.best_params_)\n",
    "print(\"Ridge Best Cross-Validation Score: {:.2f}\".format(ridge_grid_search.best_score_))\n",
    "print(\"Ridge Test Score: {:.2f}\".format(ridge_grid_search.score(X_test, y_test)))\n",
    "\n",
    "# calculate the mse\n",
    "y_pred = ridge_grid_search.predict(X_test)\n",
    "mse = mean_squared_error(y_test, y_pred)\n",
    "print('Mean squared error:', mse)\n",
    "\n",
    "# calculate the r2 score\n",
    "r2 = r2_score(y_test, y_pred)\n",
    "print('R-squared score:', r2)\n"
   ]
  },
  {
   "cell_type": "code",
   "execution_count": 37,
   "metadata": {},
   "outputs": [
    {
     "data": {
      "text/html": [
       "<div>\n",
       "<style scoped>\n",
       "    .dataframe tbody tr th:only-of-type {\n",
       "        vertical-align: middle;\n",
       "    }\n",
       "\n",
       "    .dataframe tbody tr th {\n",
       "        vertical-align: top;\n",
       "    }\n",
       "\n",
       "    .dataframe thead th {\n",
       "        text-align: right;\n",
       "    }\n",
       "</style>\n",
       "<table border=\"1\" class=\"dataframe\">\n",
       "  <thead>\n",
       "    <tr style=\"text-align: right;\">\n",
       "      <th></th>\n",
       "      <th>feature</th>\n",
       "      <th>importance</th>\n",
       "    </tr>\n",
       "  </thead>\n",
       "  <tbody>\n",
       "    <tr>\n",
       "      <th>0</th>\n",
       "      <td>year</td>\n",
       "      <td>0.366236</td>\n",
       "    </tr>\n",
       "    <tr>\n",
       "      <th>2</th>\n",
       "      <td>model</td>\n",
       "      <td>0.219942</td>\n",
       "    </tr>\n",
       "    <tr>\n",
       "      <th>4</th>\n",
       "      <td>cylinders</td>\n",
       "      <td>0.135300</td>\n",
       "    </tr>\n",
       "    <tr>\n",
       "      <th>5</th>\n",
       "      <td>odometer</td>\n",
       "      <td>0.060426</td>\n",
       "    </tr>\n",
       "    <tr>\n",
       "      <th>7</th>\n",
       "      <td>transmission</td>\n",
       "      <td>0.050555</td>\n",
       "    </tr>\n",
       "    <tr>\n",
       "      <th>1</th>\n",
       "      <td>manufacturer</td>\n",
       "      <td>0.048751</td>\n",
       "    </tr>\n",
       "    <tr>\n",
       "      <th>10</th>\n",
       "      <td>type</td>\n",
       "      <td>0.030417</td>\n",
       "    </tr>\n",
       "    <tr>\n",
       "      <th>8</th>\n",
       "      <td>drive</td>\n",
       "      <td>0.017722</td>\n",
       "    </tr>\n",
       "    <tr>\n",
       "      <th>12</th>\n",
       "      <td>state</td>\n",
       "      <td>0.014034</td>\n",
       "    </tr>\n",
       "    <tr>\n",
       "      <th>3</th>\n",
       "      <td>condition</td>\n",
       "      <td>0.006522</td>\n",
       "    </tr>\n",
       "    <tr>\n",
       "      <th>9</th>\n",
       "      <td>size</td>\n",
       "      <td>0.003159</td>\n",
       "    </tr>\n",
       "    <tr>\n",
       "      <th>6</th>\n",
       "      <td>title_status</td>\n",
       "      <td>0.002830</td>\n",
       "    </tr>\n",
       "    <tr>\n",
       "      <th>11</th>\n",
       "      <td>paint_color</td>\n",
       "      <td>0.000504</td>\n",
       "    </tr>\n",
       "  </tbody>\n",
       "</table>\n",
       "</div>"
      ],
      "text/plain": [
       "         feature  importance\n",
       "0           year    0.366236\n",
       "2          model    0.219942\n",
       "4      cylinders    0.135300\n",
       "5       odometer    0.060426\n",
       "7   transmission    0.050555\n",
       "1   manufacturer    0.048751\n",
       "10          type    0.030417\n",
       "8          drive    0.017722\n",
       "12         state    0.014034\n",
       "3      condition    0.006522\n",
       "9           size    0.003159\n",
       "6   title_status    0.002830\n",
       "11   paint_color    0.000504"
      ]
     },
     "execution_count": 37,
     "metadata": {},
     "output_type": "execute_result"
    }
   ],
   "source": [
    "# Calculate permutation importance\n",
    "perm_importance = permutation_importance(ridge_grid_search.best_estimator_, X_test, y_test, n_repeats=30, random_state=42)\n",
    "\n",
    "# Access feature importances\n",
    "feature_importances = perm_importance.importances_mean\n",
    "\n",
    "# Get feature names\n",
    "feature_names = X.columns\n",
    "\n",
    "# Create a DataFrame with the feature names and feature importances. Sort by feature importance.\n",
    "feature_df = pd.DataFrame({'feature': feature_names, 'importance': feature_importances}).sort_values('importance', ascending=False)\n",
    "\n",
    "feature_df"
   ]
  },
  {
   "cell_type": "markdown",
   "metadata": {},
   "source": [
    "#### Assess Model\n",
    "\n",
    "The Normal Linear Regression model performed slightly better than the Ridge Linear Regression model. Normal Linear Regression model had an accuracy of 69.2% and MSE of 53051003.7 while the Ridge Linear Regression model had an accuracy of 69% and an MSE of 53288398.1. "
   ]
  },
  {
   "cell_type": "markdown",
   "metadata": {},
   "source": [
    "### Evaluation\n",
    "\n",
    "With some modeling accomplished, we aim to reflect on what we identify as a high quality model and what we are able to learn from this.  We should review our business objective and explore how well we can provide meaningful insight on drivers of used car prices.  Your goal now is to distill your findings and determine whether the earlier phases need revisitation and adjustment or if you have information of value to bring back to your client."
   ]
  },
  {
   "cell_type": "markdown",
   "metadata": {},
   "source": [
    "#### Evaluate Results\n",
    "\n",
    "The business success criteria were to identify what customers value the most when shopping for used vehicles and providing a model that the used car dealership can use to predict the price of a used car given its features. Both models meet this criteria. The selected model will be the normal linear regress model. "
   ]
  },
  {
   "cell_type": "markdown",
   "metadata": {},
   "source": [
    "#### Review Process\n",
    "\n",
    "We correctly built the model and used the the attributes that were provided to us. These attributes of used cars will also be available in the future. No important steps were overlooked during this process, so the selected model should be good to use."
   ]
  },
  {
   "cell_type": "markdown",
   "metadata": {},
   "source": [
    "#### Determine Next Steps\n",
    "\n",
    "No additional steps are needed based on the review."
   ]
  },
  {
   "cell_type": "markdown",
   "metadata": {},
   "source": [
    "### Deployment\n",
    "\n",
    "Now that we've settled on our models and findings, it is time to deliver the information to the client.  You should organize your work as a basic report that details your primary findings.  Keep in mind that your audience is a group of used car dealers interested in fine tuning their inventory."
   ]
  },
  {
   "cell_type": "markdown",
   "metadata": {},
   "source": [
    "#### Deployment Plan\n",
    "\n",
    "1. Model Selection:\n",
    "    - Based on our evaluation, we have selected the Normal Linear Regression model as it achieved an accuracy of 69.2% and an MSE of 53,051,003.7.\n",
    "    - The model utilizes various features of used cars to predict their prices accurately.\n",
    "\n",
    "2. Model Integration:\n",
    "    - Integrate the selected model into the dealership's existing software infrastructure.\n",
    "    - Ensure that the necessary libraries and dependencies are installed and compatible with the deployment environment.\n",
    "\n",
    "3. Data Collection:\n",
    "    - Continuously collect data on used cars, including relevant features such as make, model, year, mileage, condition, and more.\n",
    "    - Ensure that the data collection process is automated and captures accurate and up-to-date information.\n",
    "\n",
    "4. Data Preprocessing:\n",
    "    - Implement the same data preprocessing steps used during model training to ensure consistency and accuracy.\n",
    "    - Handle missing values, outliers, and perform necessary feature transformations.\n",
    "\n",
    "5. Model Deployment:\n",
    "    - Develop a user-friendly interface for dealership staff to input the features of a used car and obtain a predicted selling price.\n",
    "    - Ensure that the interface is intuitive, efficient, and provides real-time predictions.\n"
   ]
  },
  {
   "cell_type": "markdown",
   "metadata": {},
   "source": [
    "#### Monitoring and Maintenance Plan\n",
    "\n",
    "1. Model Monitoring and Maintenance:\n",
    "    - Regularly monitor the performance of the deployed model to identify any issues or deviations.\n",
    "    - Implement a tool to collect user feedback and improve the model over time.\n",
    "    - Occassionally retrain the model using new data to ensure its accuracy and relevance.\n",
    "\n",
    "2. Staff Training and Support:\n",
    "    - Provide training to dealership staff on how to effectively use the predictive model.\n",
    "    - Offer ongoing support and assistance to address any questions or concerns.\n",
    "\n",
    "3. Performance Evaluation:\n",
    "    - Conduct regular evaluations of the model's performance against predefined metrics.\n",
    "    - Assess the accuracy, precision, and recall of the model to ensure its effectiveness.\n",
    "\n",
    "4. Continuous Improvement:\n",
    "    - Continuously analyze customer feedback, market trends, and new data to identify areas for improvement.\n",
    "    - Incorporate new features or techniques into the model to enhance its predictive capabilities."
   ]
  },
  {
   "cell_type": "markdown",
   "metadata": {},
   "source": [
    "#### Final Report\n",
    "\n",
    "In this project, we cleaned data, explored the data, and built models to achieve our business goals. Our business goals were to identify what customers value the most when shopping for used vehicles and to provide a model that can be used to predict the price of a used car given its features. A linear regression model that uses all the features provided works the best for accurate prediction. The most important things that customers value when buying a used car are year, model, engine cylinders, odometer, and manufacturer. This matches other research that we have conducted, making this a satisfactory model that the used car dealership can use."
   ]
  },
  {
   "cell_type": "markdown",
   "metadata": {},
   "source": [
    "#### Review Project\n",
    "\n",
    "Most of the project went correct and as expected. We learned how to create models to make predictions and also determine feature importance. We were able to data clean effectively to keep a good chunk of the data usable for the modeling. We now know how to approach future data mining projects effectively. \n",
    "\n",
    "There are a few things that we could improve. First, we should try to tweak and play around with the model to make it more accurate. Second, due to hardware limitations, we weren't able to test more complex or more modern models, as running them would take a long time on current hardware. Getting better GPUs or running our models in the cloud would lead to improvements in our processes and modeling. "
   ]
  }
 ],
 "metadata": {
  "kernelspec": {
   "display_name": "Python 3",
   "language": "python",
   "name": "python3"
  },
  "language_info": {
   "codemirror_mode": {
    "name": "ipython",
    "version": 3
   },
   "file_extension": ".py",
   "mimetype": "text/x-python",
   "name": "python",
   "nbconvert_exporter": "python",
   "pygments_lexer": "ipython3",
   "version": "3.10.4"
  },
  "widgets": {
   "application/vnd.jupyter.widget-state+json": {
    "state": {},
    "version_major": 2,
    "version_minor": 0
   }
  }
 },
 "nbformat": 4,
 "nbformat_minor": 4
}
